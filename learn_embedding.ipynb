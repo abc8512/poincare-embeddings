{
 "cells": [
  {
   "cell_type": "markdown",
   "metadata": {},
   "source": [
    "# Learn Embedding\n",
    "\n",
    "\n",
    "Refer the files below:\n",
    "\n",
    "train-mammals.sh\n",
    "\n",
    "train-olp-poincare.sh\n",
    "\n",
    "Run a shell script in a \"TERMINAL\" not in ipython notebook. That is too slow.\n",
    "\n",
    "If you have GPU and set -train_threads 1, then it will learn on GPU. \n",
    "Otherwise it uses cpu."
   ]
  },
  {
   "cell_type": "markdown",
   "metadata": {},
   "source": [
    "### run"
   ]
  },
  {
   "cell_type": "code",
   "execution_count": null,
   "metadata": {},
   "outputs": [],
   "source": [
    "!bash ./train-olp-poincare.sh"
   ]
  },
  {
   "cell_type": "markdown",
   "metadata": {},
   "source": [
    "I also tried that modify embed.py to accept arguments and run in a notebook. But that is also too slow."
   ]
  },
  {
   "cell_type": "code",
   "execution_count": null,
   "metadata": {},
   "outputs": [],
   "source": [
    "import embed\n",
    "\n",
    "args =[\n",
    "    '-dim', '4',\n",
    "    '-lr',  '0.1',\n",
    "    '-epochs', '1000',\n",
    "    '-negs', '50',\n",
    "    '-burnin', '20',\n",
    "    '-ndproc',  '4',\n",
    "    '-model', 'distance',\n",
    "    '-manifold', 'lorentz',\n",
    "    '-dset', 'data/olp_goals_connected.csv',\n",
    "    '-checkpoint', 'data/olp_goals_connected.pth',\n",
    "    '-batchsize', '10',\n",
    "    '-eval_each', '1',\n",
    "    '-fresh', \n",
    "    '-sparse', \n",
    "    '-train_threads', '1'\n",
    "]"
   ]
  },
  {
   "cell_type": "code",
   "execution_count": null,
   "metadata": {},
   "outputs": [],
   "source": [
    "embed.main(args)"
   ]
  }
 ],
 "metadata": {
  "kernelspec": {
   "display_name": "poincare_embedding_torch2",
   "language": "python",
   "name": "python3"
  },
  "language_info": {
   "name": "python",
   "version": "3.8.5"
  }
 },
 "nbformat": 4,
 "nbformat_minor": 2
}
